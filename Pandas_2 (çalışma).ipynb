{
 "cells": [
  {
   "cell_type": "code",
   "execution_count": 18,
   "metadata": {
    "id": "4Oswgrps8TUi"
   },
   "outputs": [],
   "source": [
    "import numpy as np\n",
    "import pandas as pd"
   ]
  },
  {
   "cell_type": "code",
   "execution_count": 19,
   "metadata": {
    "id": "_kq7Yqeb8e7k"
   },
   "outputs": [],
   "source": [
    "labels = ['a', 'b', 'c']\n",
    "my_list = [10, 20, 30]\n",
    "arr = np.array([10, 20, 30])\n",
    "d = {'a': 10, 'b': 20, 'c': 30}"
   ]
  },
  {
   "cell_type": "markdown",
   "metadata": {
    "id": "_rRtJcR3C5Ls"
   },
   "source": [
    "**Pandas Series Oluşturma**"
   ]
  },
  {
   "cell_type": "code",
   "execution_count": 20,
   "metadata": {
    "colab": {
     "base_uri": "https://localhost:8080/"
    },
    "id": "qWvxTcRn8slk",
    "outputId": "39680550-cb72-4d8e-dbb0-f31ad23a12be"
   },
   "outputs": [
    {
     "data": {
      "text/plain": [
       "0    10\n",
       "1    20\n",
       "2    30\n",
       "dtype: int64"
      ]
     },
     "execution_count": 20,
     "metadata": {},
     "output_type": "execute_result"
    }
   ],
   "source": [
    "pd.Series(my_list) # list kullanarak Pandas Series oluşturma"
   ]
  },
  {
   "cell_type": "code",
   "execution_count": 21,
   "metadata": {
    "colab": {
     "base_uri": "https://localhost:8080/"
    },
    "id": "vRTAN8xd86OE",
    "outputId": "0c23b7ba-af8f-46a1-860c-10392c796d0e"
   },
   "outputs": [
    {
     "data": {
      "text/plain": [
       "0    21\n",
       "1    48\n",
       "2    11\n",
       "3    27\n",
       "4    42\n",
       "5    33\n",
       "dtype: int64"
      ]
     },
     "execution_count": 21,
     "metadata": {},
     "output_type": "execute_result"
    }
   ],
   "source": [
    "pd.Series([21,48,11,27,42,33]) # liste kullanarak Pandas Series oluşturma. List' i direk fonksiyon içinede yazabiliriz."
   ]
  },
  {
   "cell_type": "code",
   "execution_count": 22,
   "metadata": {
    "colab": {
     "base_uri": "https://localhost:8080/"
    },
    "id": "Lie5OTvZ9Otc",
    "outputId": "01b8a8c5-27f1-4b15-fcde-2b81a76e74f7"
   },
   "outputs": [
    {
     "data": {
      "text/plain": [
       "a    10\n",
       "b    20\n",
       "c    30\n",
       "dtype: int64"
      ]
     },
     "execution_count": 22,
     "metadata": {},
     "output_type": "execute_result"
    }
   ],
   "source": [
    "pd.Series(data = arr, index = labels) # numpy array kullanarak Pandas series oluşturma"
   ]
  },
  {
   "cell_type": "code",
   "execution_count": 23,
   "metadata": {
    "colab": {
     "base_uri": "https://localhost:8080/"
    },
    "id": "XNqUb20i9eYU",
    "outputId": "462ed053-25e8-41c2-bc84-82bd4b606983"
   },
   "outputs": [
    {
     "data": {
      "text/plain": [
       "{'a': 10, 'b': 20, 'c': 30}"
      ]
     },
     "execution_count": 23,
     "metadata": {},
     "output_type": "execute_result"
    }
   ],
   "source": [
    "d"
   ]
  },
  {
   "cell_type": "code",
   "execution_count": 24,
   "metadata": {
    "colab": {
     "base_uri": "https://localhost:8080/"
    },
    "id": "1nsv_aGz9cpO",
    "outputId": "01f08ea2-cc6a-4873-df95-e617055c9f2b"
   },
   "outputs": [
    {
     "data": {
      "text/plain": [
       "a    10\n",
       "b    20\n",
       "c    30\n",
       "dtype: int64"
      ]
     },
     "execution_count": 24,
     "metadata": {},
     "output_type": "execute_result"
    }
   ],
   "source": [
    "pd.Series(d) # Dictionaries kullanarak Pandas series oluşturma"
   ]
  },
  {
   "cell_type": "code",
   "execution_count": 25,
   "metadata": {
    "colab": {
     "base_uri": "https://localhost:8080/"
    },
    "id": "KHi_wIem9n8U",
    "outputId": "c61ece7d-b924-4106-acaf-8712ed02cc50"
   },
   "outputs": [
    {
     "data": {
      "text/plain": [
       "0     1\n",
       "1     2\n",
       "2     3\n",
       "3     4\n",
       "4     5\n",
       "5     8\n",
       "6    11\n",
       "7    25\n",
       "dtype: int64"
      ]
     },
     "execution_count": 25,
     "metadata": {},
     "output_type": "execute_result"
    }
   ],
   "source": [
    "x = (1,2,3,4,5,8,11,25) # Tuple kullanarak Pandas series oluşturma\n",
    "pd.Series(x)"
   ]
  },
  {
   "cell_type": "code",
   "execution_count": 26,
   "metadata": {
    "colab": {
     "base_uri": "https://localhost:8080/"
    },
    "id": "MchoRT_n96A1",
    "outputId": "302f7a2c-024e-4e11-bbd6-7c776171bbef"
   },
   "outputs": [
    {
     "data": {
      "text/plain": [
       "0     1\n",
       "1     2\n",
       "2     3\n",
       "3     4\n",
       "4     5\n",
       "5     8\n",
       "6    11\n",
       "7    25\n",
       "dtype: int64"
      ]
     },
     "execution_count": 26,
     "metadata": {},
     "output_type": "execute_result"
    }
   ],
   "source": [
    "pd.Series(data=x, index = range(len(x))) # Pandas index'lerini verimizin sayısına göre yeniden oluşturma"
   ]
  },
  {
   "cell_type": "code",
   "execution_count": 27,
   "metadata": {
    "colab": {
     "base_uri": "https://localhost:8080/"
    },
    "id": "9NmWHS1T-k3F",
    "outputId": "5e294e04-b1c8-48da-ac74-edbf01ef19ad"
   },
   "outputs": [
    {
     "data": {
      "text/plain": [
       "0    tom\n",
       "dtype: object"
      ]
     },
     "execution_count": 27,
     "metadata": {},
     "output_type": "execute_result"
    }
   ],
   "source": [
    "pd.Series(data = \"tom\") # veri ismini elle yazarak p.Series oluşturma"
   ]
  },
  {
   "cell_type": "code",
   "execution_count": 28,
   "metadata": {
    "colab": {
     "base_uri": "https://localhost:8080/"
    },
    "id": "JdpKoF9--zWE",
    "outputId": "e82f4940-0816-492d-a715-5f56a656187c"
   },
   "outputs": [
    {
     "data": {
      "text/plain": [
       "0    mu kim\n",
       "1    mu kim\n",
       "2    mu kim\n",
       "dtype: object"
      ]
     },
     "execution_count": 28,
     "metadata": {},
     "output_type": "execute_result"
    }
   ],
   "source": [
    "pd.Series(data = \"mu kim\", index =range(3)) # veri ismini elle yazarak p.Series oluşturma"
   ]
  },
  {
   "cell_type": "code",
   "execution_count": 29,
   "metadata": {
    "colab": {
     "base_uri": "https://localhost:8080/"
    },
    "id": "QqDr9V4DAmJl",
    "outputId": "a3282e40-ae3e-4978-e583-4df3df8eedb5"
   },
   "outputs": [
    {
     "data": {
      "text/plain": [
       "0     <class 'set'>\n",
       "1    <class 'list'>\n",
       "2    <class 'dict'>\n",
       "dtype: object"
      ]
     },
     "execution_count": 29,
     "metadata": {},
     "output_type": "execute_result"
    }
   ],
   "source": [
    "ser = pd.Series([set, list, dict]) # Pandas series içerisinde fonkisyonda tutabililyor.\n",
    "ser"
   ]
  },
  {
   "cell_type": "code",
   "execution_count": 31,
   "metadata": {
    "colab": {
     "base_uri": "https://localhost:8080/"
    },
    "id": "WpltmEUdAy99",
    "outputId": "2f23b1ab-874a-4910-f409-0c933f1cc02d"
   },
   "outputs": [
    {
     "data": {
      "text/plain": [
       "{0, 1, 2, 3, 4, 5, 8, 9}"
      ]
     },
     "execution_count": 31,
     "metadata": {},
     "output_type": "execute_result"
    }
   ],
   "source": [
    "ser[0]([0,1,1,2,5,5,3,4,8,9]) # Pandas series 'in içindeki set(küme) fonksiyonunu çalıştırmış olduk. (Set'lerde aynı değere sahip value'ler tekrarlamaz.) Series içinde bir fnoksiyon çalışırken \"()\" ihtiyaç duymuyor."
   ]
  },
  {
   "cell_type": "code",
   "execution_count": 32,
   "metadata": {
    "colab": {
     "base_uri": "https://localhost:8080/"
    },
    "id": "Yto7btHCCYd-",
    "outputId": "94b227dc-971f-4117-fb4d-7b9429e6db6c"
   },
   "outputs": [
    {
     "name": "stdout",
     "output_type": "stream",
     "text": [
      "Hello world\n"
     ]
    }
   ],
   "source": [
    "ser = pd.Series([set, list, dict]) # series içine eklediğimiz print fonksiyonu çalıştırmış olduk. \n",
    "pd.Series([sum, print,len])[1](\"Hello world\")"
   ]
  },
  {
   "cell_type": "code",
   "execution_count": 33,
   "metadata": {
    "colab": {
     "base_uri": "https://localhost:8080/"
    },
    "id": "xbLFrvHvC0VF",
    "outputId": "d30086e0-2c6e-43e4-acca-50e98b5dc274"
   },
   "outputs": [
    {
     "data": {
      "text/plain": [
       "0    Edwin\n",
       "1        2\n",
       "2     True\n",
       "3     10.2\n",
       "dtype: object"
      ]
     },
     "execution_count": 33,
     "metadata": {},
     "output_type": "execute_result"
    }
   ],
   "source": [
    "mixdata = [\"Edwin\", 2, True,10.2] # Pandas tüm data tiplerini koruyarak tutar.\n",
    "ser = pd.Series(mixdata)\n",
    "ser"
   ]
  },
  {
   "cell_type": "markdown",
   "metadata": {
    "id": "i8P6UHlPDC_e"
   },
   "source": [
    "**Pandas Series Attributes & Methods**"
   ]
  },
  {
   "cell_type": "code",
   "execution_count": 42,
   "metadata": {
    "colab": {
     "base_uri": "https://localhost:8080/"
    },
    "id": "XX7QuuXuC-39",
    "outputId": "4d911869-6d3f-4eaf-ddea-6f5770561290"
   },
   "outputs": [
    {
     "data": {
      "text/plain": [
       "0    58\n",
       "1    10\n",
       "2    10\n",
       "3    34\n",
       "4    38\n",
       "5    22\n",
       "6     8\n",
       "dtype: int64"
      ]
     },
     "execution_count": 42,
     "metadata": {},
     "output_type": "execute_result"
    }
   ],
   "source": [
    "ser = pd.Series(np.random.randint(0,100,7)) # random değerlerden pandas series oluşturma\n",
    "ser"
   ]
  },
  {
   "cell_type": "code",
   "execution_count": 43,
   "metadata": {
    "colab": {
     "base_uri": "https://localhost:8080/"
    },
    "id": "MRV_yShkDU32",
    "outputId": "9753b98f-7a5a-4094-9c80-9cad8efce593"
   },
   "outputs": [
    {
     "data": {
      "text/plain": [
       "7"
      ]
     },
     "execution_count": 43,
     "metadata": {},
     "output_type": "execute_result"
    }
   ],
   "source": [
    "len(ser) # Ps(Pandas Series) uzunluğu"
   ]
  },
  {
   "cell_type": "code",
   "execution_count": 44,
   "metadata": {
    "colab": {
     "base_uri": "https://localhost:8080/"
    },
    "id": "dP-jXVgxDhYO",
    "outputId": "8b46ebe3-9401-419c-fe98-2af730381e0f"
   },
   "outputs": [
    {
     "data": {
      "text/plain": [
       "dtype('int64')"
      ]
     },
     "execution_count": 44,
     "metadata": {},
     "output_type": "execute_result"
    }
   ],
   "source": [
    "ser.dtype # Ps veri tipi"
   ]
  },
  {
   "cell_type": "code",
   "execution_count": 45,
   "metadata": {
    "colab": {
     "base_uri": "https://localhost:8080/"
    },
    "id": "RyegqEZUDtjv",
    "outputId": "84e3e62b-77d7-44d8-e6a4-5c5fa0b7551c"
   },
   "outputs": [
    {
     "data": {
      "text/plain": [
       "[0, 1, 2, 3, 4, 5, 6]"
      ]
     },
     "execution_count": 45,
     "metadata": {},
     "output_type": "execute_result"
    }
   ],
   "source": [
    "ser.index # Ps indexler\n",
    "list(ser.index) # indexleri obje olarak tuttuğu için görebilmek için list fonksiyonunu kullandık.(for döngüsüde kullanabiliriz)"
   ]
  },
  {
   "cell_type": "code",
   "execution_count": 46,
   "metadata": {
    "colab": {
     "base_uri": "https://localhost:8080/"
    },
    "id": "hXRX-EnZEKf3",
    "outputId": "6dc7fbb8-13c3-407f-fa35-dcc8fb8432cb"
   },
   "outputs": [
    {
     "data": {
      "text/plain": [
       "terry      121\n",
       "micheal    200\n",
       "orion      150\n",
       "jason       99\n",
       "dtype: int64"
      ]
     },
     "execution_count": 46,
     "metadata": {},
     "output_type": "execute_result"
    }
   ],
   "source": [
    "ser_label = pd.Series(data = [121, 200, 150, 99], index = [\"terry\", \"micheal\", \"orion\", \"jason\"]) # veri ve index'leri girerek Ps oluşturma\n",
    "ser_label"
   ]
  },
  {
   "cell_type": "code",
   "execution_count": 47,
   "metadata": {
    "colab": {
     "base_uri": "https://localhost:8080/"
    },
    "id": "M0HYV0sfEUdv",
    "outputId": "08d97fb0-db15-4c75-ffed-77aea7013500"
   },
   "outputs": [
    {
     "data": {
      "text/plain": [
       "array([58, 10, 10, 34, 38, 22,  8])"
      ]
     },
     "execution_count": 47,
     "metadata": {},
     "output_type": "execute_result"
    }
   ],
   "source": [
    "ser.values # Ps values"
   ]
  },
  {
   "cell_type": "code",
   "execution_count": 48,
   "metadata": {
    "colab": {
     "base_uri": "https://localhost:8080/"
    },
    "id": "mZJn6xWHEkG2",
    "outputId": "840d6a08-0321-49fc-ec39-2e1d9f6678ad"
   },
   "outputs": [
    {
     "data": {
      "text/plain": [
       "<bound method Series.items of 0    58\n",
       "1    10\n",
       "2    10\n",
       "3    34\n",
       "4    38\n",
       "5    22\n",
       "6     8\n",
       "dtype: int64>"
      ]
     },
     "execution_count": 48,
     "metadata": {},
     "output_type": "execute_result"
    }
   ],
   "source": [
    "ser.items # Ps index ve values sadece görüntüler"
   ]
  },
  {
   "cell_type": "code",
   "execution_count": 49,
   "metadata": {
    "colab": {
     "base_uri": "https://localhost:8080/"
    },
    "id": "B0KH5qT7FLkm",
    "outputId": "c803a5d8-a759-4af4-e6ec-948358c20ce5"
   },
   "outputs": [
    {
     "data": {
      "text/plain": [
       "<zip at 0x7f2203cdb140>"
      ]
     },
     "execution_count": 49,
     "metadata": {},
     "output_type": "execute_result"
    }
   ],
   "source": [
    "ser.items() # indexleri kullanabilmek için items()  indexleri obje olarak tuttuğu için kullanabilmek ve görebilmek için list ya da for döngüsü kullanabiliriz."
   ]
  },
  {
   "cell_type": "code",
   "execution_count": 50,
   "metadata": {
    "colab": {
     "base_uri": "https://localhost:8080/"
    },
    "id": "VVwhXeZ1FLdG",
    "outputId": "69b5d183-43dd-42dd-fd11-48b0585997e2"
   },
   "outputs": [
    {
     "data": {
      "text/plain": [
       "[(0, 58), (1, 10), (2, 10), (3, 34), (4, 38), (5, 22), (6, 8)]"
      ]
     },
     "execution_count": 50,
     "metadata": {},
     "output_type": "execute_result"
    }
   ],
   "source": [
    "list(ser.items()) # list fonksiyou ile items() method'u oluşan değerleri görebiliyoruz. index ve yanında değeri olan tuple şeklinde"
   ]
  },
  {
   "cell_type": "code",
   "execution_count": null,
   "metadata": {
    "id": "YbZrsJEvGNnw"
   },
   "outputs": [],
   "source": [
    "ser.head() # Ps ilk beş değeri görütüleme.. head() içine yazılan değer kadar gösterir default değer = 5"
   ]
  },
  {
   "cell_type": "code",
   "execution_count": null,
   "metadata": {
    "id": "DjjWY2CXGdN3"
   },
   "outputs": [],
   "source": [
    "ser.tail() # Ps son beş değeri görütüleme.. tail() içine yazılan değer kadar gösterir default değer = 5"
   ]
  },
  {
   "cell_type": "code",
   "execution_count": null,
   "metadata": {
    "id": "i2aXFHYGGodX"
   },
   "outputs": [],
   "source": [
    "ser.sample(3) # Ps içinden rastgele değerler görüntüleme  "
   ]
  },
  {
   "cell_type": "code",
   "execution_count": null,
   "metadata": {
    "id": "ztPzuo3CG3JA"
   },
   "outputs": [],
   "source": [
    "ser.sort_index(ascending =True).head() # Ps index'leri sıralama"
   ]
  },
  {
   "cell_type": "code",
   "execution_count": 51,
   "metadata": {
    "colab": {
     "base_uri": "https://localhost:8080/"
    },
    "id": "B1SncIBZHADw",
    "outputId": "fb621757-b8bf-4745-907a-a20c951064f2"
   },
   "outputs": [
    {
     "data": {
      "text/plain": [
       "0    58\n",
       "1    10\n",
       "2    10\n",
       "3    34\n",
       "4    38\n",
       "5    22\n",
       "6     8\n",
       "dtype: int64"
      ]
     },
     "execution_count": 51,
     "metadata": {},
     "output_type": "execute_result"
    }
   ],
   "source": [
    "ser"
   ]
  },
  {
   "cell_type": "code",
   "execution_count": 52,
   "metadata": {
    "colab": {
     "base_uri": "https://localhost:8080/"
    },
    "id": "B3LpuknXHCyH",
    "outputId": "a145b0a6-04aa-4c14-ac96-057db552e564"
   },
   "outputs": [
    {
     "data": {
      "text/plain": [
       "0    58\n",
       "4    38\n",
       "3    34\n",
       "dtype: int64"
      ]
     },
     "execution_count": 52,
     "metadata": {},
     "output_type": "execute_result"
    }
   ],
   "source": [
    "ser.sort_values(ascending= False).head(3) # Ps index'leri sıralama"
   ]
  },
  {
   "cell_type": "code",
   "execution_count": 53,
   "metadata": {
    "colab": {
     "base_uri": "https://localhost:8080/"
    },
    "id": "1ycnnqwgHLBA",
    "outputId": "8d5e7fc9-fe11-4c67-c741-ee8eaf9ad014"
   },
   "outputs": [
    {
     "data": {
      "text/plain": [
       "USA        1\n",
       "Germany    2\n",
       "RF         3\n",
       "Japan      4\n",
       "dtype: int64"
      ]
     },
     "execution_count": 53,
     "metadata": {},
     "output_type": "execute_result"
    }
   ],
   "source": [
    "ser1 = pd.Series([1, 2, 3, 4], index = ['USA', 'Germany','RF', 'Japan'])\n",
    "ser2 = pd.Series([1, 2, 5, 4, 6], index = ['USA', 'Germany','Italy', 'Japan', 'Spain'])\n",
    "ser1"
   ]
  },
  {
   "cell_type": "code",
   "execution_count": 54,
   "metadata": {
    "colab": {
     "base_uri": "https://localhost:8080/"
    },
    "id": "Z3P2UtKOHVJo",
    "outputId": "9c38fbb0-b7b0-4194-f6bb-9e8baebd887c"
   },
   "outputs": [
    {
     "data": {
      "text/plain": [
       "USA        1\n",
       "Germany    2\n",
       "RF         3\n",
       "Japan      4\n",
       "dtype: int64"
      ]
     },
     "execution_count": 54,
     "metadata": {},
     "output_type": "execute_result"
    }
   ],
   "source": [
    "ser1.sort_values() # Ps values'leri sıralama"
   ]
  },
  {
   "cell_type": "markdown",
   "metadata": {
    "id": "kTW-ZNCyHd-P"
   },
   "source": [
    "**Ps select**"
   ]
  },
  {
   "cell_type": "code",
   "execution_count": 55,
   "metadata": {
    "colab": {
     "base_uri": "https://localhost:8080/"
    },
    "id": "CwDfae5OHhSX",
    "outputId": "8e764288-9fe6-47f6-e836-c1018c68528d"
   },
   "outputs": [
    {
     "data": {
      "text/plain": [
       "1"
      ]
     },
     "execution_count": 55,
     "metadata": {},
     "output_type": "execute_result"
    }
   ],
   "source": [
    "ser1[0] # python ile aynı şekilde seçim yapma"
   ]
  },
  {
   "cell_type": "code",
   "execution_count": 56,
   "metadata": {
    "colab": {
     "base_uri": "https://localhost:8080/"
    },
    "id": "KRFN5zz6HdHv",
    "outputId": "39f0fb50-7fe3-4148-cbe5-3a0d4fce040c"
   },
   "outputs": [
    {
     "data": {
      "text/plain": [
       "3"
      ]
     },
     "execution_count": 56,
     "metadata": {},
     "output_type": "execute_result"
    }
   ],
   "source": [
    "ser1.index.get_loc(\"Japan\") # index (label) ile seçim"
   ]
  },
  {
   "cell_type": "markdown",
   "metadata": {
    "id": "hSnJrAAOIQGR"
   },
   "source": [
    "**Ps slicing**"
   ]
  },
  {
   "cell_type": "code",
   "execution_count": 58,
   "metadata": {
    "colab": {
     "base_uri": "https://localhost:8080/"
    },
    "id": "rKK-AKbMIKBI",
    "outputId": "d747f3d8-a8d0-4782-a703-13bc41712522"
   },
   "outputs": [
    {
     "data": {
      "text/plain": [
       "Italy    5\n",
       "Japan    4\n",
       "Spain    6\n",
       "dtype: int64"
      ]
     },
     "execution_count": 58,
     "metadata": {},
     "output_type": "execute_result"
    }
   ],
   "source": [
    "ser2[2:] # python ile aynı şekilde "
   ]
  },
  {
   "cell_type": "code",
   "execution_count": 59,
   "metadata": {
    "colab": {
     "base_uri": "https://localhost:8080/"
    },
    "id": "AEEww3GHIcU3",
    "outputId": "8333acd5-b565-4ac7-c10a-d207192cbf3b"
   },
   "outputs": [
    {
     "data": {
      "text/plain": [
       "Spain      6\n",
       "Japan      4\n",
       "Italy      5\n",
       "Germany    2\n",
       "USA        1\n",
       "dtype: int64"
      ]
     },
     "execution_count": 59,
     "metadata": {},
     "output_type": "execute_result"
    }
   ],
   "source": [
    "ser2[::-1] # python ile aynı şekilde "
   ]
  },
  {
   "cell_type": "code",
   "execution_count": 63,
   "metadata": {
    "colab": {
     "base_uri": "https://localhost:8080/"
    },
    "id": "hK_E0jRxKniZ",
    "outputId": "667af7fc-1f05-48cc-d179-0ac2e35d3f8d"
   },
   "outputs": [
    {
     "data": {
      "text/plain": [
       "terry    121\n",
       "orion    150\n",
       "dtype: int64"
      ]
     },
     "execution_count": 63,
     "metadata": {},
     "output_type": "execute_result"
    }
   ],
   "source": [
    "ser[[0,2]] # iki ayrı index seçme"
   ]
  },
  {
   "cell_type": "code",
   "execution_count": 64,
   "metadata": {
    "colab": {
     "base_uri": "https://localhost:8080/"
    },
    "id": "6eGH52mfKtS5",
    "outputId": "9707e1a6-6f63-4f02-fa91-2e7633abc39e"
   },
   "outputs": [
    {
     "data": {
      "text/plain": [
       "terry      121\n",
       "micheal    200\n",
       "orion      150\n",
       "dtype: int64"
      ]
     },
     "execution_count": 64,
     "metadata": {},
     "output_type": "execute_result"
    }
   ],
   "source": [
    "ser[0:3] # aralık vererek seçme"
   ]
  },
  {
   "cell_type": "code",
   "execution_count": 65,
   "metadata": {
    "colab": {
     "base_uri": "https://localhost:8080/"
    },
    "id": "2imlN08iK8nz",
    "outputId": "200305fc-f94c-4bfb-c1e0-c2a35a54e384"
   },
   "outputs": [
    {
     "data": {
      "text/plain": [
       "terry      121\n",
       "micheal    200\n",
       "orion      150\n",
       "dtype: int64"
      ]
     },
     "execution_count": 65,
     "metadata": {},
     "output_type": "execute_result"
    }
   ],
   "source": [
    "ser[\"terry\" : \"orion\"] # son index dahil getirdi sayısal indexlerde son index dahil olmaz label indexlerde dahil olur"
   ]
  },
  {
   "cell_type": "code",
   "execution_count": 67,
   "metadata": {
    "colab": {
     "base_uri": "https://localhost:8080/"
    },
    "id": "_vVSMg0eLiYq",
    "outputId": "7960b778-a031-4f8d-a41d-55ce3f9afec3"
   },
   "outputs": [
    {
     "data": {
      "text/plain": [
       "terry      121\n",
       "micheal    200\n",
       "orion      150\n",
       "jason       99\n",
       "dtype: int64"
      ]
     },
     "execution_count": 67,
     "metadata": {},
     "output_type": "execute_result"
    }
   ],
   "source": [
    "ser"
   ]
  },
  {
   "cell_type": "code",
   "execution_count": 66,
   "metadata": {
    "colab": {
     "base_uri": "https://localhost:8080/"
    },
    "id": "K56y45nXLHOp",
    "outputId": "e970e34d-406a-4682-8468-8ee760935e7d"
   },
   "outputs": [
    {
     "data": {
      "text/plain": [
       "terry      False\n",
       "micheal    False\n",
       "orion      False\n",
       "jason       True\n",
       "dtype: bool"
      ]
     },
     "execution_count": 66,
     "metadata": {},
     "output_type": "execute_result"
    }
   ],
   "source": [
    "ser < 100 # value'ları 100'den küçük olanları True olmayaları False gösterir."
   ]
  },
  {
   "cell_type": "code",
   "execution_count": 68,
   "metadata": {
    "colab": {
     "base_uri": "https://localhost:8080/"
    },
    "id": "gDJ93bC5L7vp",
    "outputId": "f2f90795-b0f2-41a3-aee9-d85ca9c63561"
   },
   "outputs": [
    {
     "data": {
      "text/plain": [
       "jason    99\n",
       "dtype: int64"
      ]
     },
     "execution_count": 68,
     "metadata": {},
     "output_type": "execute_result"
    }
   ],
   "source": [
    "ser[ser < 100] #  bu şekilde (ser[]) true olan satır ya da satırları getirir"
   ]
  },
  {
   "cell_type": "code",
   "execution_count": 70,
   "metadata": {
    "colab": {
     "base_uri": "https://localhost:8080/"
    },
    "id": "ZtdV4fdAMITx",
    "outputId": "08c4657d-cba9-4d99-cb4a-986ed14005b2"
   },
   "outputs": [
    {
     "data": {
      "text/plain": [
       "terry      121\n",
       "micheal    200\n",
       "orion      150\n",
       "jason      100\n",
       "dtype: int64"
      ]
     },
     "execution_count": 70,
     "metadata": {},
     "output_type": "execute_result"
    }
   ],
   "source": [
    "ser[ser < 100] = 100 # jason değeri 99'du. 100 olarak değiştirdik\n",
    "ser"
   ]
  },
  {
   "cell_type": "code",
   "execution_count": 74,
   "metadata": {
    "colab": {
     "base_uri": "https://localhost:8080/"
    },
    "id": "UVgfffNcMWAZ",
    "outputId": "84af4230-8a6c-4df9-ed08-c43b5c2ff8ad"
   },
   "outputs": [
    {
     "data": {
      "text/plain": [
       "True"
      ]
     },
     "execution_count": 74,
     "metadata": {},
     "output_type": "execute_result"
    }
   ],
   "source": [
    "\"terry\" in ser # ser value'ler içinde terry var mı ? varsa True"
   ]
  },
  {
   "cell_type": "code",
   "execution_count": 72,
   "metadata": {
    "colab": {
     "base_uri": "https://localhost:8080/"
    },
    "id": "ZKo3-68uMZRi",
    "outputId": "3c413511-c661-4aed-d948-107d75c6c6af"
   },
   "outputs": [
    {
     "data": {
      "text/plain": [
       "False"
      ]
     },
     "execution_count": 72,
     "metadata": {},
     "output_type": "execute_result"
    }
   ],
   "source": [
    "121 in ser # label olmadığı için False"
   ]
  },
  {
   "cell_type": "code",
   "execution_count": 73,
   "metadata": {
    "colab": {
     "base_uri": "https://localhost:8080/"
    },
    "id": "LYo6wLjQMbQB",
    "outputId": "02c333be-f4cb-44ae-8328-9fe20ba067b7"
   },
   "outputs": [
    {
     "data": {
      "text/plain": [
       "True"
      ]
     },
     "execution_count": 73,
     "metadata": {},
     "output_type": "execute_result"
    }
   ],
   "source": [
    "121 in ser.values  # value'de aramak için"
   ]
  },
  {
   "cell_type": "code",
   "execution_count": 75,
   "metadata": {
    "colab": {
     "base_uri": "https://localhost:8080/"
    },
    "id": "qMXW48FtMpYC",
    "outputId": "b0d1255b-8b30-4e44-dbaf-da8dd7c92c06"
   },
   "outputs": [
    {
     "data": {
      "text/plain": [
       "terry       True\n",
       "micheal    False\n",
       "orion      False\n",
       "jason      False\n",
       "dtype: bool"
      ]
     },
     "execution_count": 75,
     "metadata": {},
     "output_type": "execute_result"
    }
   ],
   "source": [
    "ser.isin([121]) # value değeri 121 olan True, diğerleri False"
   ]
  },
  {
   "cell_type": "code",
   "execution_count": 76,
   "metadata": {
    "colab": {
     "base_uri": "https://localhost:8080/"
    },
    "id": "kzb_KMYTM0ES",
    "outputId": "21b9cf0f-fa2e-4abe-e362-16f8d6b15a45"
   },
   "outputs": [
    {
     "data": {
      "text/plain": [
       "terry       True\n",
       "micheal    False\n",
       "orion       True\n",
       "jason      False\n",
       "dtype: bool"
      ]
     },
     "execution_count": 76,
     "metadata": {},
     "output_type": "execute_result"
    }
   ],
   "source": [
    "ser.isin([121,150]) # value değeri 121 ve 150 olan True, diğerleri False"
   ]
  },
  {
   "cell_type": "code",
   "execution_count": 77,
   "metadata": {
    "colab": {
     "base_uri": "https://localhost:8080/"
    },
    "id": "W0WwR-0nNDM5",
    "outputId": "d94ae58e-cc19-4f06-f2e2-04e36150e0c2"
   },
   "outputs": [
    {
     "data": {
      "text/plain": [
       "terry    121\n",
       "dtype: int64"
      ]
     },
     "execution_count": 77,
     "metadata": {},
     "output_type": "execute_result"
    }
   ],
   "source": [
    "ser[ser.isin([121])] # şekilde tüm satır seçilir"
   ]
  },
  {
   "cell_type": "code",
   "execution_count": 79,
   "metadata": {
    "colab": {
     "base_uri": "https://localhost:8080/"
    },
    "id": "l5tkhlKDNKL5",
    "outputId": "92e8cbc9-8255-4482-bdfc-7b22c7722058"
   },
   "outputs": [
    {
     "data": {
      "text/plain": [
       "terry      125\n",
       "micheal    200\n",
       "orion      150\n",
       "jason      100\n",
       "dtype: int64"
      ]
     },
     "execution_count": 79,
     "metadata": {},
     "output_type": "execute_result"
    }
   ],
   "source": [
    "ser[ser.isin([121])] = 125 # 121 olan value değerine bu şekilde yeni değer atanır.\n",
    "ser"
   ]
  },
  {
   "cell_type": "markdown",
   "metadata": {
    "id": "oF1VIY_0J3Rw"
   },
   "source": [
    "***Ps İşlemler***"
   ]
  },
  {
   "cell_type": "code",
   "execution_count": 60,
   "metadata": {
    "id": "sOMk5UkiJ0fp"
   },
   "outputs": [],
   "source": [
    "a = np.array([3,6,9])\n",
    "b = np.array([2,4,8,10])"
   ]
  },
  {
   "cell_type": "code",
   "execution_count": null,
   "metadata": {
    "id": "8EeLalnMJ2G4"
   },
   "outputs": [],
   "source": [
    "a+b #array'ler işlem yapabilmek için shapeler eşit olmalı. O nedenle bu toplama işlemi hata verir"
   ]
  },
  {
   "cell_type": "code",
   "execution_count": 61,
   "metadata": {
    "colab": {
     "base_uri": "https://localhost:8080/"
    },
    "id": "nx6KCCNmKZnQ",
    "outputId": "0cca08db-b34e-4c2f-862d-af0fa207609f"
   },
   "outputs": [
    {
     "data": {
      "text/plain": [
       "Germany    4.0\n",
       "Italy      NaN\n",
       "Japan      8.0\n",
       "RF         NaN\n",
       "Spain      NaN\n",
       "USA        2.0\n",
       "dtype: float64"
      ]
     },
     "execution_count": 61,
     "metadata": {},
     "output_type": "execute_result"
    }
   ],
   "source": [
    "ser1 + ser2 # pandas series'lerde shape ler eşit olmasada işlem yapar karşılığı boşsa NaN yapar"
   ]
  },
  {
   "cell_type": "code",
   "execution_count": 62,
   "metadata": {
    "colab": {
     "base_uri": "https://localhost:8080/"
    },
    "id": "o0WOUPPsKgSw",
    "outputId": "f54bd7d3-4c2b-497f-8add-81d5e0c7cf8a"
   },
   "outputs": [
    {
     "data": {
      "text/plain": [
       "terry      121\n",
       "micheal    200\n",
       "orion      150\n",
       "jason       99\n",
       "dtype: int64"
      ]
     },
     "execution_count": 62,
     "metadata": {},
     "output_type": "execute_result"
    }
   ],
   "source": [
    "ser = pd.Series(data = [121, 200, 150, 99], index = [\"terry\", \"micheal\", \"orion\", \"jason\"])\n",
    "ser"
   ]
  }
 ],
 "metadata": {
  "colab": {
   "collapsed_sections": [],
   "name": "Recap_Pandas_Series_04_08_22.ipynb",
   "provenance": []
  },
  "kernelspec": {
   "display_name": "Python 3 (ipykernel)",
   "language": "python",
   "name": "python3"
  },
  "language_info": {
   "codemirror_mode": {
    "name": "ipython",
    "version": 3
   },
   "file_extension": ".py",
   "mimetype": "text/x-python",
   "name": "python",
   "nbconvert_exporter": "python",
   "pygments_lexer": "ipython3",
   "version": "3.9.12"
  }
 },
 "nbformat": 4,
 "nbformat_minor": 1
}
